{
  "nbformat": 4,
  "nbformat_minor": 0,
  "metadata": {
    "colab": {
      "provenance": []
    },
    "kernelspec": {
      "name": "python3",
      "display_name": "Python 3"
    },
    "language_info": {
      "name": "python"
    }
  },
  "cells": [
    {
      "cell_type": "markdown",
      "source": [
        "# Importing libraries"
      ],
      "metadata": {
        "id": "qizlg8ji_Dhn"
      }
    },
    {
      "cell_type": "code",
      "source": [
        "import torch\n",
        "import torch.nn as nn\n",
        "from torch.nn import functional as F"
      ],
      "metadata": {
        "id": "fjjvMifYZf7x"
      },
      "execution_count": null,
      "outputs": []
    },
    {
      "cell_type": "markdown",
      "source": [
        "# Setting up Hyperparameters\n",
        "\n",
        "1.   **batch_size:** how many independent sequences will we process in parallel?\n",
        "2.   **List item:** what is the maximum context length for predictions?\n",
        "3. **max_iters:** The total number of training steps the model will go through.\n",
        "4. **eval_interval:** The model will evaluate its performance (loss) on the training and validation sets every 100 iterations.\n",
        "5. **learning_rate:** The step size used during optimization. It controls how quickly the model adjusts its parameters.\n",
        "\n",
        "\n",
        "\n",
        "\n",
        "\n"
      ],
      "metadata": {
        "id": "Y9bQ6co7_PLO"
      }
    },
    {
      "cell_type": "code",
      "source": [
        "batch_size = 16\n",
        "block_size = 32\n",
        "max_iters = 5000\n",
        "eval_interval = 100\n",
        "learning_rate = 1e-3\n",
        "device = 'cuda' if torch.cuda.is_available() else 'cpu'\n",
        "eval_iters = 200\n",
        "n_embd = 64\n",
        "n_head = 4\n",
        "n_layer = 4\n",
        "dropout = 0.0\n",
        "\n",
        "\n",
        "torch.manual_seed(1337)"
      ],
      "metadata": {
        "colab": {
          "base_uri": "https://localhost:8080/"
        },
        "id": "i47Hmrj4_MiI",
        "outputId": "d13fc553-61bc-4ee3-c7c7-605b08d07927"
      },
      "execution_count": null,
      "outputs": [
        {
          "output_type": "execute_result",
          "data": {
            "text/plain": [
              "<torch._C.Generator at 0x7f7f3012a110>"
            ]
          },
          "metadata": {},
          "execution_count": 2
        }
      ]
    },
    {
      "cell_type": "code",
      "source": [
        "file_path = '/content/Transformer Dataset.txt'\n",
        "with open(file_path, 'r', encoding='utf-8') as f:\n",
        "    text = f.read()"
      ],
      "metadata": {
        "id": "_O7RkffS_Zmi"
      },
      "execution_count": null,
      "outputs": []
    },
    {
      "cell_type": "markdown",
      "source": [
        "# Loading Dataset"
      ],
      "metadata": {
        "id": "jZkNz3se_wXH"
      }
    },
    {
      "cell_type": "code",
      "source": [
        "# here are all the unique characters that occur in this text\n",
        "chars = sorted(list(set(text)))\n",
        "vocab_size = len(chars)\n",
        "# create a mapping from characters to integers\n",
        "stoi = { ch:i for i,ch in enumerate(chars) }\n",
        "itos = { i:ch for i,ch in enumerate(chars) }\n",
        "encode = lambda s: [stoi[c] for c in s] # encoder: take a string, output a list of integers\n",
        "decode = lambda l: ''.join([itos[i] for i in l]) # decoder: take a list of integers, output a string\n",
        "\n",
        "# Train and test splits\n",
        "data = torch.tensor(encode(text), dtype=torch.long)\n",
        "n = int(0.9*len(data)) # first 90% will be train, rest val\n",
        "train_data = data[:n]\n",
        "val_data = data[n:]\n",
        "\n",
        "# data loading\n",
        "def get_batch(split):\n",
        "    # generate a small batch of data of inputs x and targets y\n",
        "    data = train_data if split == 'train' else val_data\n",
        "    ix = torch.randint(len(data) - block_size, (batch_size,))\n",
        "    x = torch.stack([data[i:i+block_size] for i in ix])\n",
        "    y = torch.stack([data[i+1:i+block_size+1] for i in ix])\n",
        "    x, y = x.to(device), y.to(device)\n",
        "    return x, y\n",
        "\n",
        "# loss function\n",
        "@torch.no_grad()\n",
        "def estimate_loss():\n",
        "    out = {}\n",
        "    model.eval()\n",
        "    for split in ['train', 'val']:\n",
        "        losses = torch.zeros(eval_iters)\n",
        "        for k in range(eval_iters):\n",
        "            X, Y = get_batch(split)\n",
        "            logits, loss = model(X, Y)\n",
        "            losses[k] = loss.item()\n",
        "        out[split] = losses.mean()\n",
        "    model.train()\n",
        "    return out"
      ],
      "metadata": {
        "id": "_x9iLuYt_1AB"
      },
      "execution_count": null,
      "outputs": []
    },
    {
      "cell_type": "markdown",
      "source": [
        "# Self Attention and Transformer Block\n",
        "\n",
        "\n",
        "\n",
        "1.   **class Head(nn.Module):** Defines a single \"head\" of the self-attention mechanism. This head is responsible for focusing on a specific aspect of the input sequence.\n",
        "2. **class MultiHeadAttention(nn.Module):** Combines multiple attention heads in parallel, allowing the model to attend to different features of the input.\n",
        "3. **class FeedFoward(nn.Module):** A simple feedforward network (a series of linear layers and activation functions) that takes the output of the self-attention layers and processes it further.\n",
        "4. **class Block(nn.Module):** Encapsulates the entire Transformer block. A block consists of a self-attention layer (communication) followed by a feedforward layer (computation).\n",
        "\n"
      ],
      "metadata": {
        "id": "HSeeA6NxAPeP"
      }
    },
    {
      "cell_type": "code",
      "source": [
        "class Head(nn.Module):\n",
        "    \"\"\" one head of self-attention \"\"\"\n",
        "\n",
        "    def __init__(self, head_size):\n",
        "        super().__init__()\n",
        "        self.key = nn.Linear(n_embd, head_size, bias=False)\n",
        "        self.query = nn.Linear(n_embd, head_size, bias=False)\n",
        "        self.value = nn.Linear(n_embd, head_size, bias=False)\n",
        "        self.register_buffer('tril', torch.tril(torch.ones(block_size, block_size)))\n",
        "\n",
        "        self.dropout = nn.Dropout(dropout)\n",
        "\n",
        "    def forward(self, x):\n",
        "        B,T,C = x.shape\n",
        "        k = self.key(x)   # (B,T,C)\n",
        "        q = self.query(x) # (B,T,C)\n",
        "        # compute attention scores (\"affinities\")\n",
        "        wei = q @ k.transpose(-2,-1) * C**-0.5 # (B, T, C) @ (B, C, T) -> (B, T, T)\n",
        "        wei = wei.masked_fill(self.tril[:T, :T] == 0, float('-inf')) # (B, T, T)\n",
        "        wei = F.softmax(wei, dim=-1) # (B, T, T)\n",
        "        wei = self.dropout(wei)\n",
        "        # perform the weighted aggregation of the values\n",
        "        v = self.value(x) # (B,T,C)\n",
        "        out = wei @ v # (B, T, T) @ (B, T, C) -> (B, T, C)\n",
        "        return out\n",
        "\n",
        "class MultiHeadAttention(nn.Module):\n",
        "    \"\"\" multiple heads of self-attention in parallel \"\"\"\n",
        "\n",
        "    def __init__(self, num_heads, head_size):\n",
        "        super().__init__()\n",
        "        self.heads = nn.ModuleList([Head(head_size) for _ in range(num_heads)])\n",
        "        self.proj = nn.Linear(n_embd, n_embd)\n",
        "        self.dropout = nn.Dropout(dropout)\n",
        "\n",
        "    def forward(self, x):\n",
        "        out = torch.cat([h(x) for h in self.heads], dim=-1)\n",
        "        out = self.dropout(self.proj(out))\n",
        "        return out\n",
        "\n",
        "class FeedFoward(nn.Module):\n",
        "    \"\"\" a simple linear layer followed by a non-linearity \"\"\"\n",
        "\n",
        "    def __init__(self, n_embd):\n",
        "        super().__init__()\n",
        "        self.net = nn.Sequential(\n",
        "            nn.Linear(n_embd, 4 * n_embd),\n",
        "            nn.ReLU(),\n",
        "            nn.Linear(4 * n_embd, n_embd),\n",
        "            nn.Dropout(dropout),\n",
        "        )\n",
        "\n",
        "    def forward(self, x):\n",
        "        return self.net(x)\n",
        "\n",
        "class Block(nn.Module):\n",
        "    \"\"\" Transformer block: communication followed by computation \"\"\"\n",
        "\n",
        "    def __init__(self, n_embd, n_head):\n",
        "        # n_embd: embedding dimension, n_head: the number of heads we'd like\n",
        "        super().__init__()\n",
        "        head_size = n_embd // n_head\n",
        "        self.sa = MultiHeadAttention(n_head, head_size)\n",
        "        self.ffwd = FeedFoward(n_embd)\n",
        "        self.ln1 = nn.LayerNorm(n_embd)\n",
        "        self.ln2 = nn.LayerNorm(n_embd)\n",
        "\n",
        "    def forward(self, x):\n",
        "        x = x + self.sa(self.ln1(x))\n",
        "        x = x + self.ffwd(self.ln2(x))\n",
        "        return x"
      ],
      "metadata": {
        "id": "2v204j-fAVMd"
      },
      "execution_count": null,
      "outputs": []
    },
    {
      "cell_type": "markdown",
      "source": [
        "# Bigram Model\n",
        "\n",
        "A bigram language model is a statistical method for predicting the next word (or character) in a sequence based on the immediately preceding word (or character)."
      ],
      "metadata": {
        "id": "lW_t9sMGAaTx"
      }
    },
    {
      "cell_type": "code",
      "source": [
        "# super simple bigram model\n",
        "class BigramLanguageModel(nn.Module):\n",
        "\n",
        "    def __init__(self):\n",
        "        super().__init__()\n",
        "        # each token directly reads off the logits for the next token from a lookup table\n",
        "        self.token_embedding_table = nn.Embedding(vocab_size, n_embd)\n",
        "        self.position_embedding_table = nn.Embedding(block_size, n_embd)\n",
        "        self.blocks = nn.Sequential(*[Block(n_embd, n_head=n_head) for _ in range(n_layer)])\n",
        "        self.ln_f = nn.LayerNorm(n_embd) # final layer norm\n",
        "        self.lm_head = nn.Linear(n_embd, vocab_size)\n",
        "\n",
        "    def forward(self, idx, targets=None):\n",
        "        B, T = idx.shape\n",
        "\n",
        "        # idx and targets are both (B,T) tensor of integers\n",
        "        tok_emb = self.token_embedding_table(idx) # (B,T,C)\n",
        "        pos_emb = self.position_embedding_table(torch.arange(T, device=device)) # (T,C)\n",
        "        x = tok_emb + pos_emb # (B,T,C)\n",
        "        x = self.blocks(x) # (B,T,C)\n",
        "        x = self.ln_f(x) # (B,T,C)\n",
        "        logits = self.lm_head(x) # (B,T,vocab_size)\n",
        "\n",
        "        if targets is None:\n",
        "            loss = None\n",
        "        else:\n",
        "            B, T, C = logits.shape\n",
        "            logits = logits.view(B*T, C)\n",
        "            targets = targets.view(B*T)\n",
        "            loss = F.cross_entropy(logits, targets)\n",
        "\n",
        "        return logits, loss\n",
        "\n",
        "    def generate(self, idx, max_new_tokens):\n",
        "        # idx is (B, T) array of indices in the current context\n",
        "        for _ in range(max_new_tokens):\n",
        "            # crop idx to the last block_size tokens\n",
        "            idx_cond = idx[:, -block_size:]\n",
        "            # get the predictions\n",
        "            logits, loss = self(idx_cond)\n",
        "            # focus only on the last time step\n",
        "            logits = logits[:, -1, :] # becomes (B, C)\n",
        "            # apply softmax to get probabilities\n",
        "            probs = F.softmax(logits, dim=-1) # (B, C)\n",
        "            # sample from the distribution\n",
        "            idx_next = torch.multinomial(probs, num_samples=1) # (B, 1)\n",
        "            # append sampled index to the running sequence\n",
        "            idx = torch.cat((idx, idx_next), dim=1) # (B, T+1)\n",
        "        return idx\n",
        "\n",
        "model = BigramLanguageModel()\n",
        "m = model.to(device)"
      ],
      "metadata": {
        "id": "NfodCyN-Adi7"
      },
      "execution_count": null,
      "outputs": []
    },
    {
      "cell_type": "markdown",
      "source": [
        "# Pytorch Optimizer\n",
        "\n",
        "The PyTorch optimizer is a tool that adjusts the parameters of the bigram language model during training to minimize its prediction errors."
      ],
      "metadata": {
        "id": "iWmf-jLCApyc"
      }
    },
    {
      "cell_type": "code",
      "source": [
        "# print the number of parameters in the model\n",
        "print(sum(p.numel() for p in m.parameters())/1e6, 'M parameters')\n",
        "\n",
        "# create a PyTorch optimizer\n",
        "optimizer = torch.optim.AdamW(model.parameters(), lr=learning_rate)\n",
        "\n",
        "for iter in range(max_iters):\n",
        "\n",
        "    # every once in a while evaluate the loss on train and val sets\n",
        "    if iter % eval_interval == 0 or iter == max_iters - 1:\n",
        "        losses = estimate_loss()\n",
        "        print(f\"step {iter}: train loss {losses['train']:.4f}, val loss {losses['val']:.4f}\")\n",
        "\n",
        "    # sample a batch of data\n",
        "    xb, yb = get_batch('train')\n",
        "\n",
        "    # evaluate the loss\n",
        "    logits, loss = model(xb, yb)\n",
        "    optimizer.zero_grad(set_to_none=True)\n",
        "    loss.backward()\n",
        "    optimizer.step()"
      ],
      "metadata": {
        "id": "KvLir9yUAsWi",
        "colab": {
          "base_uri": "https://localhost:8080/"
        },
        "outputId": "b50459dd-9b44-448c-cba9-66f7cc66c3ac"
      },
      "execution_count": null,
      "outputs": [
        {
          "output_type": "stream",
          "name": "stdout",
          "text": [
            "0.213212 M parameters\n",
            "step 0: train loss 4.6987, val loss 4.7023\n",
            "step 100: train loss 2.6463, val loss 2.6621\n",
            "step 200: train loss 2.5004, val loss 2.5299\n",
            "step 300: train loss 2.4216, val loss 2.4591\n",
            "step 400: train loss 2.3462, val loss 2.3989\n",
            "step 500: train loss 2.2901, val loss 2.3297\n",
            "step 600: train loss 2.2334, val loss 2.2703\n",
            "step 700: train loss 2.2056, val loss 2.2414\n",
            "step 800: train loss 2.1370, val loss 2.1817\n",
            "step 900: train loss 2.0942, val loss 2.1556\n",
            "step 1000: train loss 2.0849, val loss 2.1347\n",
            "step 1100: train loss 2.0394, val loss 2.1111\n",
            "step 1200: train loss 2.0142, val loss 2.0969\n",
            "step 1300: train loss 2.0054, val loss 2.0743\n",
            "step 1400: train loss 1.9869, val loss 2.0592\n",
            "step 1500: train loss 1.9556, val loss 2.0370\n",
            "step 1600: train loss 1.9451, val loss 2.0268\n",
            "step 1700: train loss 1.9181, val loss 2.0144\n",
            "step 1800: train loss 1.9133, val loss 1.9918\n",
            "step 1900: train loss 1.9107, val loss 1.9763\n",
            "step 2000: train loss 1.8860, val loss 1.9862\n",
            "step 2100: train loss 1.8634, val loss 1.9651\n",
            "step 2200: train loss 1.8541, val loss 1.9609\n",
            "step 2300: train loss 1.8395, val loss 1.9445\n",
            "step 2400: train loss 1.8563, val loss 1.9520\n",
            "step 2500: train loss 1.8407, val loss 1.9298\n",
            "step 2600: train loss 1.8274, val loss 1.9236\n",
            "step 2700: train loss 1.8195, val loss 1.9292\n",
            "step 2800: train loss 1.8122, val loss 1.9232\n",
            "step 2900: train loss 1.7979, val loss 1.9114\n",
            "step 3000: train loss 1.7799, val loss 1.9050\n",
            "step 3100: train loss 1.7812, val loss 1.8870\n",
            "step 3200: train loss 1.7796, val loss 1.8864\n",
            "step 3300: train loss 1.7697, val loss 1.8747\n",
            "step 3400: train loss 1.7555, val loss 1.8803\n",
            "step 3500: train loss 1.7484, val loss 1.8600\n",
            "step 3600: train loss 1.7630, val loss 1.8636\n",
            "step 3700: train loss 1.7446, val loss 1.8549\n",
            "step 3800: train loss 1.7451, val loss 1.8594\n",
            "step 3900: train loss 1.7255, val loss 1.8664\n",
            "step 4000: train loss 1.7296, val loss 1.8538\n",
            "step 4100: train loss 1.7306, val loss 1.8491\n",
            "step 4200: train loss 1.7168, val loss 1.8362\n",
            "step 4300: train loss 1.7133, val loss 1.8456\n",
            "step 4400: train loss 1.7115, val loss 1.8260\n",
            "step 4500: train loss 1.7089, val loss 1.8375\n",
            "step 4600: train loss 1.7007, val loss 1.8313\n",
            "step 4700: train loss 1.6895, val loss 1.8220\n",
            "step 4800: train loss 1.7011, val loss 1.8213\n",
            "step 4900: train loss 1.6953, val loss 1.8294\n",
            "step 4999: train loss 1.6774, val loss 1.8002\n"
          ]
        }
      ]
    },
    {
      "cell_type": "markdown",
      "source": [
        "# Text Generation"
      ],
      "metadata": {
        "id": "l5XO3zerA6KJ"
      }
    },
    {
      "cell_type": "code",
      "source": [
        "# generate from the model\n",
        "\n",
        "prompt = \"Hello World\"\n",
        "context = torch.tensor(encode(prompt), dtype=torch.long, device=device).unsqueeze(0)  # (1, T) shape\n",
        "generated_text_idx = model.generate(context, max_new_tokens=2000)  # Generate 200 new tokens\n",
        "generated_text = decode(generated_text_idx[0].tolist())\n",
        "\n",
        "print(\"You: \", prompt)\n",
        "print(\"GPT: \", generated_text)"
      ],
      "metadata": {
        "id": "EbuJ9V1tA_sA",
        "colab": {
          "base_uri": "https://localhost:8080/"
        },
        "outputId": "cb6e77a1-4fd8-45be-ffc4-fc930c8d6968"
      },
      "execution_count": null,
      "outputs": [
        {
          "output_type": "stream",
          "name": "stdout",
          "text": [
            "You:  Hello World\n",
            "GPT:  Hello World’s belthing pryspeasally, have pinsplice got outside him, stame. ”\n",
            "“Miny befoalding you had glarid to head are had slood-severy’d lide the, and his not bare twelented to in him keps, was back out their wonderert that I tholl warts got in if blow-Kiss to detteringer\n",
            "“every Stress’s lyark sleetly.” Barning for out . . . . . atter that selept just. For, must on they ground him sksing. He much are explase-— as I\tway and the settly udddood, like thhing your caup to Castany: Put as Stannis Ned.\n",
            "It — — Seriestly Pribe’s botty. The strassenter and to.”\n",
            "“Wark, as Lanthing to go chardled — Pythrouge in a face fave on a throe membents and the revaging, she agame, why might her and out to it weart,” speapsup Hermione priess the scoad. “I she he’d cleasling fire and dammanded corrice. They . . . he’ve sade feath a tap wergelf.”\n",
            "“Uhe through with hardn’t as Hogwart Ron’s gon.\n",
            "\n",
            "Wrond her quited clild, incoldiang to his talturing than soner his abild his esight of aten as of plysion.” She way very Benonde care helled be his and were boxall to — She ty meast theyen, they’lh to the woale trean, slar, “Kly blanged with. But been were as he wam, so the croined to heart there, warning naring, I Wleath, diffirshed, and reaves, sconmarted, whice — waityrisss upof, so prasced toing was it.\n",
            "Them; here had all much, “a from — here, the-— . .   \n",
            "Arled bluldry at end heressh spreac on-I and as perwelformorting door black to was was mucked been and reaised and me. An will as bargion! I matreamer me. . belves, and her, they cimbe. Yous’y made. Perwarging Fortror garpen. Then loom walking bluest was leaking to better spintiosted it noped. ”\n",
            "The said Harry! Same — Rincledolly thronger’s was cousiting voside,? Ihow eye torross aro leared and ”\n",
            "“Jon slud Dad of Suriously Kark! He flayen, HEurl Fragever!” as she eamed a pluarted, light of noisty, stronger. “Than tape you are desperst, as a ready a saw evences.\n",
            "“I sa was wont he camelinited to the rother.\n",
            "GOLIUZG\n",
            "EODAOs: Harry? Neven of they?” toge dr\n"
          ]
        }
      ]
    }
  ]
}